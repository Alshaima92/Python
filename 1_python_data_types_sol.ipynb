{
 "cells": [
  {
   "cell_type": "markdown",
   "metadata": {},
   "source": [
    "<div style=\"display: flex; align-items: center;\">\n",
    "    <img src=\"../img/es_logo.png\" alt=\"title\" style=\"margin-right: 20px;\">\n",
    "    <h1>Python Syntax and Data Types</h1>\n",
    "</div>"
   ]
  },
  {
   "cell_type": "markdown",
   "metadata": {},
   "source": [
    "### Submission Instructions\n",
    "\n",
    "- You should complete the code in the code cells provided.\n",
    "- Once you have completed the notebook, you should submit the completed notebook by uploading it to your github profile and sharing the github link as the submission.\n",
    "- your github repostory should contain the completed notebook as well as a README.md file that summarizes what you have learned in this module."
   ]
  },
  {
   "cell_type": "markdown",
   "metadata": {},
   "source": [
    "### Recommended Readings:\n",
    "- Automate the Boring Stuff with Python: [Chapter 1](https://automatetheboringstuff.com/2e/chapter1/)\n",
    "- Python Documentation: [Python Docs](https://docs.python.org/3/tutorial/index.html)\n",
    "- W3Schools Python Tutorial: [W3Schools](https://www.w3schools.com/python/)\n",
    "- make a readme file [README](https://www.makeareadme.com/)"
   ]
  },
  {
   "cell_type": "markdown",
   "metadata": {},
   "source": [
    "Complete the code to print out Hello Python! in a formatted string.\n"
   ]
  },
  {
   "cell_type": "code",
   "execution_count": 30,
   "metadata": {},
   "outputs": [
    {
     "name": "stdout",
     "output_type": "stream",
     "text": [
      "Hello Python!\n"
     ]
    },
    {
     "data": {
      "text/plain": [
       "'message = \"Python\"\\nGreeting = \"Hello \" + message + \"!\"\\nprint(Greeting)'"
      ]
     },
     "execution_count": 30,
     "metadata": {},
     "output_type": "execute_result"
    }
   ],
   "source": [
    "message = \"Python\"\n",
    "Greeting = f\"Hello {message}!\"\n",
    "print(Greeting)\n",
    "\n",
    "\"\"\"message = \"Python\"\n",
    "Greeting = \"Hello \" + message + \"!\"\n",
    "print(Greeting)\"\"\""
   ]
  },
  {
   "cell_type": "markdown",
   "metadata": {},
   "source": [
    "Correct the following code to:\n",
    "1. Perform the arithmetic operation on a and b.\n",
    "2. Perform concatenation on a and b."
   ]
  },
  {
   "cell_type": "code",
   "execution_count": 31,
   "metadata": {},
   "outputs": [
    {
     "name": "stdout",
     "output_type": "stream",
     "text": [
      "15\n",
      "510\n"
     ]
    }
   ],
   "source": [
    "a = 5\n",
    "b = \"10\"\n",
    "\n",
    "# perform addition expected output is 15\n",
    "addition = a + int(b)\n",
    "print(addition)\n",
    "\n",
    "# perform concatenation expected output is 510\n",
    "concatenation = str(a) + b\n",
    "print(concatenation)"
   ]
  },
  {
   "cell_type": "markdown",
   "metadata": {},
   "source": [
    "Complete the code to extract and print out the domain name from the email address."
   ]
  },
  {
   "cell_type": "code",
   "execution_count": 32,
   "metadata": {},
   "outputs": [
    {
     "name": "stdout",
     "output_type": "stream",
     "text": [
      "10\n",
      "estarta.com\n",
      "estarta.com\n"
     ]
    }
   ],
   "source": [
    "email = \"python_dev@estarta.com\"\n",
    "\n",
    "# extract domain from email\n",
    "domain = None\n",
    "print(email.index(\"@\"))\n",
    "domain = email[11:]\n",
    "print(domain)\n",
    "\n",
    "print(email[-11:])"
   ]
  },
  {
   "cell_type": "markdown",
   "metadata": {},
   "source": [
    "Perform the following operations on the \"Cars\" list:\n",
    "1. Add \"Honda\" to the list.\n",
    "2. Replace the second element with \"Ford\".\n",
    "3. Remove \"Toyota\" from the list.\n",
    "4. Check if \"Subaru\" is in the list."
   ]
  },
  {
   "cell_type": "code",
   "execution_count": 33,
   "metadata": {},
   "outputs": [
    {
     "name": "stdout",
     "output_type": "stream",
     "text": [
      "['Toyota', 'Mercedes', 'BMW', 'Jeep']\n",
      "['Toyota', 'Mercedes', 'BMW', 'Jeep', 'Honda']\n",
      "['Toyota', 'Ford', 'BMW', 'Jeep', 'Honda']\n",
      "['Ford', 'BMW', 'Jeep', 'Honda']\n",
      "False\n"
     ]
    }
   ],
   "source": [
    "cars = [\"Toyota\", \"Mercedes\", \"BMW\", \"Jeep\"]\n",
    "print(cars)\n",
    "\n",
    "# add \"Honda\" to the list\n",
    "\n",
    "cars.append(\"Honda\")\n",
    "print(cars)\n",
    "\n",
    "# replace the second element with \"Ford\"\n",
    "cars[1]= \"Ford\"\n",
    "print(cars)\n",
    "\n",
    "# remove Toyota from the list\n",
    "cars.remove(\"Toyota\")\n",
    "print(cars)\n",
    "\n",
    "# print True if Subaru is in the list else False\n",
    "print(\"Subaru\" in cars)"
   ]
  },
  {
   "cell_type": "markdown",
   "metadata": {},
   "source": [
    "Complete the code to do the following:\n",
    "1. Create a new dictionary with the following key-value pairs: \"name\": \"Ahmad\", \"age\": 25, \"occupation\": \"doctor\", \"country\": \"Jordan\"\n",
    "2. Add a new key-value pair with \"city\": \"Amman\"\n",
    "3. Update the occupation to \"Surgeon\"\n",
    "4. Remove the \"country\" key-value pair from the dictionary.\n",
    "5. print out the updated dictionary."
   ]
  },
  {
   "cell_type": "code",
   "execution_count": 34,
   "metadata": {},
   "outputs": [
    {
     "name": "stdout",
     "output_type": "stream",
     "text": [
      "{'name': 'Ahmad', 'age': 25, 'occupation': 'Surgeon', 'city': 'Amman'}\n"
     ]
    }
   ],
   "source": [
    "# complete the code to perform the operations listed above\n",
    "person = {\n",
    "    \"name\" : \"Ahmad\", \n",
    "    \"age\" : 25,\n",
    "    \"occupation\" : \"doctor\",\n",
    "    \"country\" : \"Jordan\",\n",
    "    }\n",
    "\n",
    "person[\"city\"] = \"Amman\"\n",
    "\n",
    "person[\"occupation\"] = \"Surgeon\"\n",
    "\n",
    "person.pop(\"country\")\n",
    "\n",
    "print(person)"
   ]
  },
  {
   "cell_type": "markdown",
   "metadata": {},
   "source": [
    "Complete the folowing opertasions on the \"numbers\" set:\n",
    "1. Check if 4 is in the set.\n",
    "2. Add 5 to the set.\n",
    "3. Remove 3 from the set.\n",
    "4. Try to add a duplicate element to the set.\n",
    "5. Create a new set that contains numbers from in the range of m+1 to m+10, where m is the maximum number in the \"numbers\" set.\n",
    "6. Create a set that is the union of the two sets."
   ]
  },
  {
   "cell_type": "code",
   "execution_count": 29,
   "metadata": {},
   "outputs": [
    {
     "name": "stdout",
     "output_type": "stream",
     "text": [
      "False\n",
      "{1, 2, 3, 5, 7, 8, 9, 16}\n",
      "{1, 2, 5, 7, 8, 9, 16}\n",
      "{1, 2, 5, 7, 8, 9, 16}\n",
      "{1, 2, 5, 7, 8, 9, 16, 17, 18, 19, 20, 21, 22, 23, 24, 25, 26}\n",
      "{17, 18, 19, 20, 21, 22, 23, 24, 25, 26}\n"
     ]
    }
   ],
   "source": [
    "numbers = {2, 5, 16, 8, 7, 9, 3, 1}\n",
    "\n",
    "# your code here\n",
    "\n",
    "print (4 in numbers) \n",
    "\n",
    "\"\"\"\n",
    "if 4 in numbers:\n",
    "    print(\"4 is in the set.\")\n",
    "else:\n",
    "    print(\"4 is not in the set.\")\n",
    "\"\"\"\n",
    "\n",
    "numbers.add(5)\n",
    "print(numbers)\n",
    "#The set remains unchanged because 5 is already present.(no duplicated values)\n",
    "#Set items are unordered, unchangeable, and do not allow duplicate values.\n",
    "\n",
    "\n",
    "numbers.remove(3)\n",
    "print (numbers)\n",
    "\n",
    "numbers.add(16)\n",
    "print (numbers)\n",
    "'''Try to add a duplicate element to the set.\n",
    "++ The set remains unchanged (no duplicated values)\n",
    "++ Set items are unordered, unchangeable, and do not allow duplicate values.\n",
    "'''\n",
    "#============================================================\n",
    "\n",
    "\n",
    "m = max(numbers)\n",
    "new_set = {i for i in range(m+1, m+11)}\n",
    "\n",
    "# print the union of the two sets\n",
    "\n",
    "print(numbers.union(new_set))\n",
    "\n",
    "#print(new_set)\n",
    "\n",
    "print (new_set)"
   ]
  }
 ],
 "metadata": {
  "kernelspec": {
   "display_name": "Python 3",
   "language": "python",
   "name": "python3"
  },
  "language_info": {
   "codemirror_mode": {
    "name": "ipython",
    "version": 3
   },
   "file_extension": ".py",
   "mimetype": "text/x-python",
   "name": "python",
   "nbconvert_exporter": "python",
   "pygments_lexer": "ipython3",
   "version": "3.12.4"
  }
 },
 "nbformat": 4,
 "nbformat_minor": 2
}
